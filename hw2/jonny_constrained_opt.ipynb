{
 "cells": [
  {
   "cell_type": "code",
   "execution_count": 77,
   "id": "dccf51e0",
   "metadata": {},
   "outputs": [
    {
     "data": {
      "text/html": [
       "<div>\n",
       "<style scoped>\n",
       "    .dataframe tbody tr th:only-of-type {\n",
       "        vertical-align: middle;\n",
       "    }\n",
       "\n",
       "    .dataframe tbody tr th {\n",
       "        vertical-align: top;\n",
       "    }\n",
       "\n",
       "    .dataframe thead th {\n",
       "        text-align: right;\n",
       "    }\n",
       "</style>\n",
       "<table border=\"1\" class=\"dataframe\">\n",
       "  <thead>\n",
       "    <tr style=\"text-align: right;\">\n",
       "      <th></th>\n",
       "      <th>AAPL</th>\n",
       "      <th>NVDA</th>\n",
       "      <th>MSFT</th>\n",
       "      <th>GOOGL</th>\n",
       "      <th>AMZN</th>\n",
       "      <th>META</th>\n",
       "      <th>TSLA</th>\n",
       "      <th>AVGO</th>\n",
       "      <th>BRK/B</th>\n",
       "      <th>LLY</th>\n",
       "      <th>SPY</th>\n",
       "    </tr>\n",
       "    <tr>\n",
       "      <th>date</th>\n",
       "      <th></th>\n",
       "      <th></th>\n",
       "      <th></th>\n",
       "      <th></th>\n",
       "      <th></th>\n",
       "      <th></th>\n",
       "      <th></th>\n",
       "      <th></th>\n",
       "      <th></th>\n",
       "      <th></th>\n",
       "      <th></th>\n",
       "    </tr>\n",
       "  </thead>\n",
       "  <tbody>\n",
       "    <tr>\n",
       "      <th>2015-01-09</th>\n",
       "      <td>0.024514</td>\n",
       "      <td>-0.009315</td>\n",
       "      <td>0.009195</td>\n",
       "      <td>-0.054445</td>\n",
       "      <td>-0.037534</td>\n",
       "      <td>-0.009055</td>\n",
       "      <td>-0.057685</td>\n",
       "      <td>0.047971</td>\n",
       "      <td>0.002011</td>\n",
       "      <td>-0.001855</td>\n",
       "      <td>-0.005744</td>\n",
       "    </tr>\n",
       "    <tr>\n",
       "      <th>2015-01-16</th>\n",
       "      <td>-0.053745</td>\n",
       "      <td>0.000836</td>\n",
       "      <td>-0.020131</td>\n",
       "      <td>0.019448</td>\n",
       "      <td>-0.020880</td>\n",
       "      <td>-0.032931</td>\n",
       "      <td>-0.065760</td>\n",
       "      <td>-0.010268</td>\n",
       "      <td>-0.001739</td>\n",
       "      <td>0.010726</td>\n",
       "      <td>-0.012827</td>\n",
       "    </tr>\n",
       "    <tr>\n",
       "      <th>2015-01-23</th>\n",
       "      <td>0.065950</td>\n",
       "      <td>0.037578</td>\n",
       "      <td>0.020329</td>\n",
       "      <td>0.061685</td>\n",
       "      <td>0.074431</td>\n",
       "      <td>0.035255</td>\n",
       "      <td>0.042575</td>\n",
       "      <td>0.030500</td>\n",
       "      <td>-0.000603</td>\n",
       "      <td>0.020514</td>\n",
       "      <td>0.016565</td>\n",
       "    </tr>\n",
       "    <tr>\n",
       "      <th>2015-01-30</th>\n",
       "      <td>0.036997</td>\n",
       "      <td>-0.072636</td>\n",
       "      <td>-0.143706</td>\n",
       "      <td>-0.008130</td>\n",
       "      <td>0.134900</td>\n",
       "      <td>-0.024669</td>\n",
       "      <td>0.011476</td>\n",
       "      <td>-0.038331</td>\n",
       "      <td>-0.034938</td>\n",
       "      <td>-0.001802</td>\n",
       "      <td>-0.026931</td>\n",
       "    </tr>\n",
       "    <tr>\n",
       "      <th>2015-02-06</th>\n",
       "      <td>0.019114</td>\n",
       "      <td>0.062269</td>\n",
       "      <td>0.049753</td>\n",
       "      <td>-0.006812</td>\n",
       "      <td>0.055737</td>\n",
       "      <td>-0.018967</td>\n",
       "      <td>0.067589</td>\n",
       "      <td>0.018037</td>\n",
       "      <td>0.043569</td>\n",
       "      <td>-0.022778</td>\n",
       "      <td>0.030584</td>\n",
       "    </tr>\n",
       "  </tbody>\n",
       "</table>\n",
       "</div>"
      ],
      "text/plain": [
       "                AAPL      NVDA      MSFT     GOOGL      AMZN      META  \\\n",
       "date                                                                     \n",
       "2015-01-09  0.024514 -0.009315  0.009195 -0.054445 -0.037534 -0.009055   \n",
       "2015-01-16 -0.053745  0.000836 -0.020131  0.019448 -0.020880 -0.032931   \n",
       "2015-01-23  0.065950  0.037578  0.020329  0.061685  0.074431  0.035255   \n",
       "2015-01-30  0.036997 -0.072636 -0.143706 -0.008130  0.134900 -0.024669   \n",
       "2015-02-06  0.019114  0.062269  0.049753 -0.006812  0.055737 -0.018967   \n",
       "\n",
       "                TSLA      AVGO     BRK/B       LLY       SPY  \n",
       "date                                                          \n",
       "2015-01-09 -0.057685  0.047971  0.002011 -0.001855 -0.005744  \n",
       "2015-01-16 -0.065760 -0.010268 -0.001739  0.010726 -0.012827  \n",
       "2015-01-23  0.042575  0.030500 -0.000603  0.020514  0.016565  \n",
       "2015-01-30  0.011476 -0.038331 -0.034938 -0.001802 -0.026931  \n",
       "2015-02-06  0.067589  0.018037  0.043569 -0.022778  0.030584  "
      ]
     },
     "execution_count": 77,
     "metadata": {},
     "output_type": "execute_result"
    }
   ],
   "source": [
    "from scipy.optimize import minimize\n",
    "import pandas as pd\n",
    "import numpy as np\n",
    "\n",
    "df = pd.read_excel(\"spx_returns_weekly.xlsx\", sheet_name=\"s&p500 rets\")\n",
    "df2 = pd.read_excel(\"spx_returns_weekly.xlsx\", sheet_name=\"benchmark rets\")\n",
    "df = df.set_index(\"date\").join(df2.set_index(\"date\"), how=\"inner\")[[\"AAPL\", \"NVDA\", \"MSFT\", \"GOOGL\", \"AMZN\", \"META\", \"TSLA\", \"AVGO\", \"BRK/B\", \"LLY\", \"SPY\"]]\n",
    "df.head()"
   ]
  },
  {
   "cell_type": "code",
   "execution_count": 99,
   "id": "82928906",
   "metadata": {},
   "outputs": [],
   "source": [
    "import math\n",
    "TARGET_MEAN = 0.2\n",
    "FREQ = 52\n",
    "cov = df.cov() * FREQ\n",
    "mean = df.mean() * FREQ\n",
    "vol = df.std() * math.sqrt(FREQ)\n",
    "sharpe = mean / vol"
   ]
  },
  {
   "cell_type": "code",
   "execution_count": 100,
   "id": "efce03a3",
   "metadata": {},
   "outputs": [
    {
     "data": {
      "text/plain": [
       "AAPL     0.276629\n",
       "NVDA     0.463283\n",
       "MSFT     0.239980\n",
       "GOOGL    0.279851\n",
       "AMZN     0.306000\n",
       "META     0.351336\n",
       "TSLA     0.586431\n",
       "AVGO     0.375132\n",
       "BRK/B    0.190654\n",
       "LLY      0.282980\n",
       "SPY      0.170877\n",
       "dtype: float64"
      ]
     },
     "execution_count": 100,
     "metadata": {},
     "output_type": "execute_result"
    }
   ],
   "source": [
    "vol"
   ]
  },
  {
   "cell_type": "code",
   "execution_count": 79,
   "id": "99da90e4",
   "metadata": {},
   "outputs": [
    {
     "data": {
      "text/plain": [
       "AAPL     0.238714\n",
       "NVDA     0.645580\n",
       "MSFT     0.261402\n",
       "GOOGL    0.216800\n",
       "AMZN     0.293447\n",
       "META     0.261924\n",
       "TSLA     0.469754\n",
       "AVGO     0.394854\n",
       "BRK/B    0.135025\n",
       "LLY      0.281542\n",
       "SPY      0.131264\n",
       "dtype: float64"
      ]
     },
     "execution_count": 79,
     "metadata": {},
     "output_type": "execute_result"
    }
   ],
   "source": [
    "mean"
   ]
  },
  {
   "cell_type": "code",
   "execution_count": 80,
   "id": "8a1dffdb",
   "metadata": {},
   "outputs": [
    {
     "data": {
      "image/png": "[encoded data removed]",
      "text/plain": [
       "<Figure size 800x600 with 2 Axes>"
      ]
     },
     "metadata": {},
     "output_type": "display_data"
    }
   ],
   "source": [
    "import matplotlib.pyplot as plt\n",
    "from matplotlib.colors import TwoSlopeNorm\n",
    "import seaborn as sns\n",
    "corr_matrix = df.corr()\n",
    "\n",
    "\"\"\"\n",
    "Copied from Mark's Notebook\n",
    "\"\"\"\n",
    "\n",
    "# Create figure with better styling\n",
    "plt.figure(figsize=(8, 6))\n",
    "\n",
    "# Set upper triangle and diagonal to NaN for cleaner visualization\n",
    "mask = np.triu(np.ones_like(corr_matrix, dtype=bool))\n",
    "corr_matrix_masked = corr_matrix.copy()\n",
    "corr_matrix_masked[mask.astype(bool)] = np.nan\n",
    "\n",
    "# Set up color normalization\n",
    "center = 0.33\n",
    "vmin = 0\n",
    "vmax = 0.67\n",
    "norm = TwoSlopeNorm(vmin=vmin, vcenter=center, vmax=vmax)\n",
    "\n",
    "# Create heatmap\n",
    "sns.heatmap(corr_matrix_masked, \n",
    "            annot=True,# No annotations\n",
    "            norm=norm, \n",
    "            cmap='Reds', \n",
    "    cbar=True,\n",
    "    square=True)\n",
    "\n",
    "plt.title('Excess Return Correlation Matrix', fontsize=16, pad=20)\n",
    "plt.xlabel('Assets', fontsize=12)\n",
    "plt.ylabel('Assets', fontsize=12)\n",
    "plt.xticks(rotation=45, ha='right')\n",
    "plt.yticks(rotation=0)\n",
    "plt.tight_layout()\n",
    "plt.show()"
   ]
  },
  {
   "cell_type": "code",
   "execution_count": 81,
   "id": "bd56ca55",
   "metadata": {},
   "outputs": [],
   "source": [
    "def objective(w):        \n",
    "    return (w.T @ cov @ w)\n",
    "\n",
    "def fun_constraint_capital(w):\n",
    "    return np.sum(w) - 1\n",
    "\n",
    "def fun_constraint_mean(w):\n",
    "    return (mean @ w) - TARGET_MEAN"
   ]
  },
  {
   "cell_type": "code",
   "execution_count": 82,
   "id": "187204a1",
   "metadata": {},
   "outputs": [],
   "source": [
    "constraint_capital = {'type': 'eq', 'fun': fun_constraint_capital}\n",
    "constraint_mean = {'type': 'eq', 'fun': fun_constraint_mean}\n",
    "\n",
    "constraints = ([constraint_capital, constraint_mean])\n",
    "\n",
    "TICKS =  ['AAPL','NVDA','MSFT','GOOGL','AMZN','META','TSLA','AVGO','BRK/B','LLY', \"SPY\"]\n",
    "bounds = [(-0.2, 0.35) for tick in TICKS]"
   ]
  },
  {
   "cell_type": "code",
   "execution_count": 83,
   "id": "8f91db38",
   "metadata": {},
   "outputs": [
    {
     "name": "stdout",
     "output_type": "stream",
     "text": [
      "Min annualized mean: 0.1312644400898072\n",
      "Max annualized mean: 0.645580120253181\n"
     ]
    }
   ],
   "source": [
    "min_return = mean.min()\n",
    "max_return = mean.max()\n",
    "print(\"Min annualized mean:\", min_return)\n",
    "print(\"Max annualized mean:\", max_return)"
   ]
  },
  {
   "cell_type": "code",
   "execution_count": 84,
   "id": "746862cd",
   "metadata": {},
   "outputs": [
    {
     "data": {
      "text/plain": [
       "     message: Optimization terminated successfully\n",
       "     success: True\n",
       "      status: 0\n",
       "         fun: 0.027188165547000178\n",
       "           x: [ 2.968e-02 -1.346e-02  1.441e-01  9.599e-03  9.382e-02\n",
       "                2.706e-03 -1.656e-02  3.644e-02  3.500e-01  2.130e-01\n",
       "                1.507e-01]\n",
       "         nit: 19\n",
       "         jac: [ 5.697e-02  8.264e-02  5.848e-02  5.573e-02  6.058e-02\n",
       "                5.880e-02  7.100e-02  6.703e-02  4.981e-02  5.966e-02\n",
       "                5.033e-02]\n",
       "        nfev: 229\n",
       "        njev: 19\n",
       " multipliers: [ 4.208e-02  6.270e-02]"
      ]
     },
     "execution_count": 84,
     "metadata": {},
     "output_type": "execute_result"
    }
   ],
   "source": [
    "initial_guess = mean / mean.sum()\n",
    "result = minimize(objective, method=\"SLSQP\", x0=initial_guess, constraints=constraints, bounds=bounds)\n",
    "result"
   ]
  },
  {
   "cell_type": "code",
   "execution_count": 85,
   "id": "70de5018",
   "metadata": {},
   "outputs": [
    {
     "name": "stdout",
     "output_type": "stream",
     "text": [
      "constrained mean: 0.20\n",
      "constrained vol: 0.16\n",
      "constrained sharpe: 1.21\n"
     ]
    }
   ],
   "source": [
    "if result.success:\n",
    "    weights = result.x\n",
    "    wdf = pd.DataFrame({\"bounded\": weights}, index=TICKS)\n",
    "    cmean = mean @ weights\n",
    "    cvol = np.sqrt(objective(weights))\n",
    "    csharpe = cmean / cvol\n",
    "    print(f\"constrained mean: {cmean:.2f}\")\n",
    "    print(f\"constrained vol: {cvol:.2f}\")\n",
    "    print(f\"constrained sharpe: {csharpe:.2f}\")"
   ]
  },
  {
   "cell_type": "code",
   "execution_count": 86,
   "id": "914c5bda",
   "metadata": {},
   "outputs": [
    {
     "data": {
      "text/plain": [
       "AAPL     0.238714\n",
       "NVDA     0.645580\n",
       "MSFT     0.261402\n",
       "GOOGL    0.216800\n",
       "AMZN     0.293447\n",
       "META     0.261924\n",
       "TSLA     0.469754\n",
       "AVGO     0.394854\n",
       "BRK/B    0.135025\n",
       "LLY      0.281542\n",
       "SPY      0.131264\n",
       "dtype: float64"
      ]
     },
     "execution_count": 86,
     "metadata": {},
     "output_type": "execute_result"
    }
   ],
   "source": [
    "mean"
   ]
  },
  {
   "cell_type": "code",
   "execution_count": 87,
   "id": "5e81f524",
   "metadata": {},
   "outputs": [
    {
     "data": {
      "text/plain": [
       "AAPL     0.862938\n",
       "NVDA     1.393490\n",
       "MSFT     1.089266\n",
       "GOOGL    0.774698\n",
       "AMZN     0.958976\n",
       "META     0.745509\n",
       "TSLA     0.801039\n",
       "AVGO     1.052574\n",
       "BRK/B    0.708223\n",
       "LLY      0.994919\n",
       "SPY      0.768182\n",
       "dtype: float64"
      ]
     },
     "execution_count": 87,
     "metadata": {},
     "output_type": "execute_result"
    }
   ],
   "source": [
    "sharpe"
   ]
  },
  {
   "cell_type": "code",
   "execution_count": null,
   "id": "05e14fca",
   "metadata": {},
   "outputs": [],
   "source": []
  },
  {
   "cell_type": "code",
   "execution_count": 88,
   "id": "9c5fc993",
   "metadata": {},
   "outputs": [
    {
     "data": {
      "text/html": [
       "<div>\n",
       "<style scoped>\n",
       "    .dataframe tbody tr th:only-of-type {\n",
       "        vertical-align: middle;\n",
       "    }\n",
       "\n",
       "    .dataframe tbody tr th {\n",
       "        vertical-align: top;\n",
       "    }\n",
       "\n",
       "    .dataframe thead th {\n",
       "        text-align: right;\n",
       "    }\n",
       "</style>\n",
       "<table border=\"1\" class=\"dataframe\">\n",
       "  <thead>\n",
       "    <tr style=\"text-align: right;\">\n",
       "      <th></th>\n",
       "      <th>weights</th>\n",
       "      <th>sharpe</th>\n",
       "      <th>mean</th>\n",
       "    </tr>\n",
       "  </thead>\n",
       "  <tbody>\n",
       "    <tr>\n",
       "      <th>BRK/B</th>\n",
       "      <td>35.000000</td>\n",
       "      <td>0.708223</td>\n",
       "      <td>0.135025</td>\n",
       "    </tr>\n",
       "    <tr>\n",
       "      <th>LLY</th>\n",
       "      <td>21.302623</td>\n",
       "      <td>0.994919</td>\n",
       "      <td>0.281542</td>\n",
       "    </tr>\n",
       "    <tr>\n",
       "      <th>SPY</th>\n",
       "      <td>15.065314</td>\n",
       "      <td>0.768182</td>\n",
       "      <td>0.131264</td>\n",
       "    </tr>\n",
       "    <tr>\n",
       "      <th>MSFT</th>\n",
       "      <td>14.410676</td>\n",
       "      <td>1.089266</td>\n",
       "      <td>0.261402</td>\n",
       "    </tr>\n",
       "    <tr>\n",
       "      <th>AMZN</th>\n",
       "      <td>9.382347</td>\n",
       "      <td>0.958976</td>\n",
       "      <td>0.293447</td>\n",
       "    </tr>\n",
       "    <tr>\n",
       "      <th>AVGO</th>\n",
       "      <td>3.643719</td>\n",
       "      <td>1.052574</td>\n",
       "      <td>0.394854</td>\n",
       "    </tr>\n",
       "    <tr>\n",
       "      <th>AAPL</th>\n",
       "      <td>2.967713</td>\n",
       "      <td>0.862938</td>\n",
       "      <td>0.238714</td>\n",
       "    </tr>\n",
       "    <tr>\n",
       "      <th>GOOGL</th>\n",
       "      <td>0.959947</td>\n",
       "      <td>0.774698</td>\n",
       "      <td>0.216800</td>\n",
       "    </tr>\n",
       "    <tr>\n",
       "      <th>META</th>\n",
       "      <td>0.270580</td>\n",
       "      <td>0.745509</td>\n",
       "      <td>0.261924</td>\n",
       "    </tr>\n",
       "    <tr>\n",
       "      <th>NVDA</th>\n",
       "      <td>-1.346443</td>\n",
       "      <td>1.393490</td>\n",
       "      <td>0.645580</td>\n",
       "    </tr>\n",
       "    <tr>\n",
       "      <th>TSLA</th>\n",
       "      <td>-1.656475</td>\n",
       "      <td>0.801039</td>\n",
       "      <td>0.469754</td>\n",
       "    </tr>\n",
       "  </tbody>\n",
       "</table>\n",
       "</div>"
      ],
      "text/plain": [
       "         weights    sharpe      mean\n",
       "BRK/B  35.000000  0.708223  0.135025\n",
       "LLY    21.302623  0.994919  0.281542\n",
       "SPY    15.065314  0.768182  0.131264\n",
       "MSFT   14.410676  1.089266  0.261402\n",
       "AMZN    9.382347  0.958976  0.293447\n",
       "AVGO    3.643719  1.052574  0.394854\n",
       "AAPL    2.967713  0.862938  0.238714\n",
       "GOOGL   0.959947  0.774698  0.216800\n",
       "META    0.270580  0.745509  0.261924\n",
       "NVDA   -1.346443  1.393490  0.645580\n",
       "TSLA   -1.656475  0.801039  0.469754"
      ]
     },
     "execution_count": 88,
     "metadata": {},
     "output_type": "execute_result"
    }
   ],
   "source": [
    "# 1b\n",
    "cdf = pd.DataFrame({\"weights\": weights * 100, \"sharpe\": sharpe}, index=TICKS)\n",
    "cdf[\"mean\"] = mean.loc[TICKS]\n",
    "cdf = cdf.sort_values(by=\"weights\", ascending=False)\n",
    "cdf"
   ]
  },
  {
   "cell_type": "code",
   "execution_count": 89,
   "id": "431bff28",
   "metadata": {},
   "outputs": [
    {
     "data": {
      "text/html": [
       "<div>\n",
       "<style scoped>\n",
       "    .dataframe tbody tr th:only-of-type {\n",
       "        vertical-align: middle;\n",
       "    }\n",
       "\n",
       "    .dataframe tbody tr th {\n",
       "        vertical-align: top;\n",
       "    }\n",
       "\n",
       "    .dataframe thead th {\n",
       "        text-align: right;\n",
       "    }\n",
       "</style>\n",
       "<table border=\"1\" class=\"dataframe\">\n",
       "  <thead>\n",
       "    <tr style=\"text-align: right;\">\n",
       "      <th></th>\n",
       "      <th>weights</th>\n",
       "      <th>sharpe</th>\n",
       "      <th>mean</th>\n",
       "    </tr>\n",
       "  </thead>\n",
       "  <tbody>\n",
       "    <tr>\n",
       "      <th>NVDA</th>\n",
       "      <td>-1.346443</td>\n",
       "      <td>1.393490</td>\n",
       "      <td>0.645580</td>\n",
       "    </tr>\n",
       "    <tr>\n",
       "      <th>MSFT</th>\n",
       "      <td>14.410676</td>\n",
       "      <td>1.089266</td>\n",
       "      <td>0.261402</td>\n",
       "    </tr>\n",
       "    <tr>\n",
       "      <th>AVGO</th>\n",
       "      <td>3.643719</td>\n",
       "      <td>1.052574</td>\n",
       "      <td>0.394854</td>\n",
       "    </tr>\n",
       "    <tr>\n",
       "      <th>LLY</th>\n",
       "      <td>21.302623</td>\n",
       "      <td>0.994919</td>\n",
       "      <td>0.281542</td>\n",
       "    </tr>\n",
       "    <tr>\n",
       "      <th>AMZN</th>\n",
       "      <td>9.382347</td>\n",
       "      <td>0.958976</td>\n",
       "      <td>0.293447</td>\n",
       "    </tr>\n",
       "    <tr>\n",
       "      <th>AAPL</th>\n",
       "      <td>2.967713</td>\n",
       "      <td>0.862938</td>\n",
       "      <td>0.238714</td>\n",
       "    </tr>\n",
       "    <tr>\n",
       "      <th>TSLA</th>\n",
       "      <td>-1.656475</td>\n",
       "      <td>0.801039</td>\n",
       "      <td>0.469754</td>\n",
       "    </tr>\n",
       "    <tr>\n",
       "      <th>GOOGL</th>\n",
       "      <td>0.959947</td>\n",
       "      <td>0.774698</td>\n",
       "      <td>0.216800</td>\n",
       "    </tr>\n",
       "    <tr>\n",
       "      <th>SPY</th>\n",
       "      <td>15.065314</td>\n",
       "      <td>0.768182</td>\n",
       "      <td>0.131264</td>\n",
       "    </tr>\n",
       "    <tr>\n",
       "      <th>META</th>\n",
       "      <td>0.270580</td>\n",
       "      <td>0.745509</td>\n",
       "      <td>0.261924</td>\n",
       "    </tr>\n",
       "    <tr>\n",
       "      <th>BRK/B</th>\n",
       "      <td>35.000000</td>\n",
       "      <td>0.708223</td>\n",
       "      <td>0.135025</td>\n",
       "    </tr>\n",
       "  </tbody>\n",
       "</table>\n",
       "</div>"
      ],
      "text/plain": [
       "         weights    sharpe      mean\n",
       "NVDA   -1.346443  1.393490  0.645580\n",
       "MSFT   14.410676  1.089266  0.261402\n",
       "AVGO    3.643719  1.052574  0.394854\n",
       "LLY    21.302623  0.994919  0.281542\n",
       "AMZN    9.382347  0.958976  0.293447\n",
       "AAPL    2.967713  0.862938  0.238714\n",
       "TSLA   -1.656475  0.801039  0.469754\n",
       "GOOGL   0.959947  0.774698  0.216800\n",
       "SPY    15.065314  0.768182  0.131264\n",
       "META    0.270580  0.745509  0.261924\n",
       "BRK/B  35.000000  0.708223  0.135025"
      ]
     },
     "execution_count": 89,
     "metadata": {},
     "output_type": "execute_result"
    }
   ],
   "source": [
    "cdf.sort_values(by=\"sharpe\", ascending=False)"
   ]
  },
  {
   "cell_type": "code",
   "execution_count": 90,
   "id": "d99d170e",
   "metadata": {},
   "outputs": [
    {
     "data": {
      "text/html": [
       "<div>\n",
       "<style scoped>\n",
       "    .dataframe tbody tr th:only-of-type {\n",
       "        vertical-align: middle;\n",
       "    }\n",
       "\n",
       "    .dataframe tbody tr th {\n",
       "        vertical-align: top;\n",
       "    }\n",
       "\n",
       "    .dataframe thead th {\n",
       "        text-align: right;\n",
       "    }\n",
       "</style>\n",
       "<table border=\"1\" class=\"dataframe\">\n",
       "  <thead>\n",
       "    <tr style=\"text-align: right;\">\n",
       "      <th></th>\n",
       "      <th>weights</th>\n",
       "      <th>sharpe</th>\n",
       "      <th>mean</th>\n",
       "    </tr>\n",
       "  </thead>\n",
       "  <tbody>\n",
       "    <tr>\n",
       "      <th>NVDA</th>\n",
       "      <td>-1.346443</td>\n",
       "      <td>1.393490</td>\n",
       "      <td>0.645580</td>\n",
       "    </tr>\n",
       "    <tr>\n",
       "      <th>TSLA</th>\n",
       "      <td>-1.656475</td>\n",
       "      <td>0.801039</td>\n",
       "      <td>0.469754</td>\n",
       "    </tr>\n",
       "    <tr>\n",
       "      <th>AVGO</th>\n",
       "      <td>3.643719</td>\n",
       "      <td>1.052574</td>\n",
       "      <td>0.394854</td>\n",
       "    </tr>\n",
       "    <tr>\n",
       "      <th>AMZN</th>\n",
       "      <td>9.382347</td>\n",
       "      <td>0.958976</td>\n",
       "      <td>0.293447</td>\n",
       "    </tr>\n",
       "    <tr>\n",
       "      <th>LLY</th>\n",
       "      <td>21.302623</td>\n",
       "      <td>0.994919</td>\n",
       "      <td>0.281542</td>\n",
       "    </tr>\n",
       "    <tr>\n",
       "      <th>META</th>\n",
       "      <td>0.270580</td>\n",
       "      <td>0.745509</td>\n",
       "      <td>0.261924</td>\n",
       "    </tr>\n",
       "    <tr>\n",
       "      <th>MSFT</th>\n",
       "      <td>14.410676</td>\n",
       "      <td>1.089266</td>\n",
       "      <td>0.261402</td>\n",
       "    </tr>\n",
       "    <tr>\n",
       "      <th>AAPL</th>\n",
       "      <td>2.967713</td>\n",
       "      <td>0.862938</td>\n",
       "      <td>0.238714</td>\n",
       "    </tr>\n",
       "    <tr>\n",
       "      <th>GOOGL</th>\n",
       "      <td>0.959947</td>\n",
       "      <td>0.774698</td>\n",
       "      <td>0.216800</td>\n",
       "    </tr>\n",
       "    <tr>\n",
       "      <th>BRK/B</th>\n",
       "      <td>35.000000</td>\n",
       "      <td>0.708223</td>\n",
       "      <td>0.135025</td>\n",
       "    </tr>\n",
       "    <tr>\n",
       "      <th>SPY</th>\n",
       "      <td>15.065314</td>\n",
       "      <td>0.768182</td>\n",
       "      <td>0.131264</td>\n",
       "    </tr>\n",
       "  </tbody>\n",
       "</table>\n",
       "</div>"
      ],
      "text/plain": [
       "         weights    sharpe      mean\n",
       "NVDA   -1.346443  1.393490  0.645580\n",
       "TSLA   -1.656475  0.801039  0.469754\n",
       "AVGO    3.643719  1.052574  0.394854\n",
       "AMZN    9.382347  0.958976  0.293447\n",
       "LLY    21.302623  0.994919  0.281542\n",
       "META    0.270580  0.745509  0.261924\n",
       "MSFT   14.410676  1.089266  0.261402\n",
       "AAPL    2.967713  0.862938  0.238714\n",
       "GOOGL   0.959947  0.774698  0.216800\n",
       "BRK/B  35.000000  0.708223  0.135025\n",
       "SPY    15.065314  0.768182  0.131264"
      ]
     },
     "execution_count": 90,
     "metadata": {},
     "output_type": "execute_result"
    }
   ],
   "source": [
    "cdf.sort_values(by=\"mean\", ascending=False)"
   ]
  },
  {
   "cell_type": "markdown",
   "id": "57506e83",
   "metadata": {},
   "source": [
    "# 1B\n",
    "There doesn't seem to be a correlation with sharpe or mean leading to an increase/decrease in weights."
   ]
  },
  {
   "cell_type": "code",
   "execution_count": 91,
   "id": "1a4a3e71",
   "metadata": {},
   "outputs": [
    {
     "data": {
      "text/html": [
       "<div>\n",
       "<style scoped>\n",
       "    .dataframe tbody tr th:only-of-type {\n",
       "        vertical-align: middle;\n",
       "    }\n",
       "\n",
       "    .dataframe tbody tr th {\n",
       "        vertical-align: top;\n",
       "    }\n",
       "\n",
       "    .dataframe thead th {\n",
       "        text-align: right;\n",
       "    }\n",
       "</style>\n",
       "<table border=\"1\" class=\"dataframe\">\n",
       "  <thead>\n",
       "    <tr style=\"text-align: right;\">\n",
       "      <th></th>\n",
       "      <th>bounded</th>\n",
       "      <th>equal</th>\n",
       "    </tr>\n",
       "  </thead>\n",
       "  <tbody>\n",
       "    <tr>\n",
       "      <th>AAPL</th>\n",
       "      <td>2.967713</td>\n",
       "      <td>9.090909</td>\n",
       "    </tr>\n",
       "    <tr>\n",
       "      <th>NVDA</th>\n",
       "      <td>-1.346443</td>\n",
       "      <td>9.090909</td>\n",
       "    </tr>\n",
       "    <tr>\n",
       "      <th>MSFT</th>\n",
       "      <td>14.410676</td>\n",
       "      <td>9.090909</td>\n",
       "    </tr>\n",
       "    <tr>\n",
       "      <th>GOOGL</th>\n",
       "      <td>0.959947</td>\n",
       "      <td>9.090909</td>\n",
       "    </tr>\n",
       "    <tr>\n",
       "      <th>AMZN</th>\n",
       "      <td>9.382347</td>\n",
       "      <td>9.090909</td>\n",
       "    </tr>\n",
       "  </tbody>\n",
       "</table>\n",
       "</div>"
      ],
      "text/plain": [
       "         bounded     equal\n",
       "AAPL    2.967713  9.090909\n",
       "NVDA   -1.346443  9.090909\n",
       "MSFT   14.410676  9.090909\n",
       "GOOGL   0.959947  9.090909\n",
       "AMZN    9.382347  9.090909"
      ]
     },
     "execution_count": 91,
     "metadata": {},
     "output_type": "execute_result"
    }
   ],
   "source": [
    "wdf[\"equal\"] = (1 / len(TICKS) ) * 100\n",
    "wdf[\"bounded\"] *= 100\n",
    "wdf.head()"
   ]
  },
  {
   "cell_type": "code",
   "execution_count": 92,
   "id": "f499b3ba",
   "metadata": {},
   "outputs": [
    {
     "name": "stdout",
     "output_type": "stream",
     "text": [
      "Sum of weights: 1.0\n"
     ]
    },
    {
     "data": {
      "text/html": [
       "<div>\n",
       "<style scoped>\n",
       "    .dataframe tbody tr th:only-of-type {\n",
       "        vertical-align: middle;\n",
       "    }\n",
       "\n",
       "    .dataframe tbody tr th {\n",
       "        vertical-align: top;\n",
       "    }\n",
       "\n",
       "    .dataframe thead th {\n",
       "        text-align: right;\n",
       "    }\n",
       "</style>\n",
       "<table border=\"1\" class=\"dataframe\">\n",
       "  <thead>\n",
       "    <tr style=\"text-align: right;\">\n",
       "      <th></th>\n",
       "      <th>bounded</th>\n",
       "      <th>equal</th>\n",
       "    </tr>\n",
       "  </thead>\n",
       "  <tbody>\n",
       "    <tr>\n",
       "      <th>BRK/B</th>\n",
       "      <td>35.0000</td>\n",
       "      <td>9.0909</td>\n",
       "    </tr>\n",
       "    <tr>\n",
       "      <th>LLY</th>\n",
       "      <td>21.3026</td>\n",
       "      <td>9.0909</td>\n",
       "    </tr>\n",
       "    <tr>\n",
       "      <th>SPY</th>\n",
       "      <td>15.0653</td>\n",
       "      <td>9.0909</td>\n",
       "    </tr>\n",
       "    <tr>\n",
       "      <th>MSFT</th>\n",
       "      <td>14.4107</td>\n",
       "      <td>9.0909</td>\n",
       "    </tr>\n",
       "    <tr>\n",
       "      <th>AMZN</th>\n",
       "      <td>9.3823</td>\n",
       "      <td>9.0909</td>\n",
       "    </tr>\n",
       "    <tr>\n",
       "      <th>AVGO</th>\n",
       "      <td>3.6437</td>\n",
       "      <td>9.0909</td>\n",
       "    </tr>\n",
       "    <tr>\n",
       "      <th>AAPL</th>\n",
       "      <td>2.9677</td>\n",
       "      <td>9.0909</td>\n",
       "    </tr>\n",
       "    <tr>\n",
       "      <th>GOOGL</th>\n",
       "      <td>0.9599</td>\n",
       "      <td>9.0909</td>\n",
       "    </tr>\n",
       "    <tr>\n",
       "      <th>META</th>\n",
       "      <td>0.2706</td>\n",
       "      <td>9.0909</td>\n",
       "    </tr>\n",
       "    <tr>\n",
       "      <th>NVDA</th>\n",
       "      <td>-1.3464</td>\n",
       "      <td>9.0909</td>\n",
       "    </tr>\n",
       "    <tr>\n",
       "      <th>TSLA</th>\n",
       "      <td>-1.6565</td>\n",
       "      <td>9.0909</td>\n",
       "    </tr>\n",
       "  </tbody>\n",
       "</table>\n",
       "</div>"
      ],
      "text/plain": [
       "       bounded   equal\n",
       "BRK/B  35.0000  9.0909\n",
       "LLY    21.3026  9.0909\n",
       "SPY    15.0653  9.0909\n",
       "MSFT   14.4107  9.0909\n",
       "AMZN    9.3823  9.0909\n",
       "AVGO    3.6437  9.0909\n",
       "AAPL    2.9677  9.0909\n",
       "GOOGL   0.9599  9.0909\n",
       "META    0.2706  9.0909\n",
       "NVDA   -1.3464  9.0909\n",
       "TSLA   -1.6565  9.0909"
      ]
     },
     "execution_count": 92,
     "metadata": {},
     "output_type": "execute_result"
    }
   ],
   "source": [
    "print(f\"Sum of weights: {weights.sum()}\")\n",
    "wdf = wdf.round(4)\n",
    "wdf.sort_values(by=\"bounded\", ascending=False)"
   ]
  },
  {
   "cell_type": "code",
   "execution_count": 93,
   "id": "321f7083",
   "metadata": {},
   "outputs": [
    {
     "data": {
      "text/plain": [
       "np.float64(0.20000000000040394)"
      ]
     },
     "execution_count": 93,
     "metadata": {},
     "output_type": "execute_result"
    }
   ],
   "source": [
    "cmean"
   ]
  },
  {
   "cell_type": "code",
   "execution_count": 94,
   "id": "21ffef1f",
   "metadata": {},
   "outputs": [
    {
     "data": {
      "text/plain": [
       "np.float64(0.16488834266557528)"
      ]
     },
     "execution_count": 94,
     "metadata": {},
     "output_type": "execute_result"
    }
   ],
   "source": [
    "cvol"
   ]
  },
  {
   "cell_type": "code",
   "execution_count": 95,
   "id": "6d4a73a8",
   "metadata": {},
   "outputs": [
    {
     "data": {
      "text/plain": [
       "np.float64(1.212942023476103)"
      ]
     },
     "execution_count": 95,
     "metadata": {},
     "output_type": "execute_result"
    }
   ],
   "source": [
    "csharpe"
   ]
  },
  {
   "cell_type": "code",
   "execution_count": 96,
   "id": "fdc4d5e7",
   "metadata": {},
   "outputs": [
    {
     "name": "stdout",
     "output_type": "stream",
     "text": [
      "Tangency Portfolio Weights (via regression trick):\n",
      "BRK/B    2.580474\n",
      "LLY      1.112630\n",
      "NVDA     0.882896\n",
      "MSFT     0.848584\n",
      "AVGO     0.601896\n",
      "AMZN     0.426356\n",
      "AAPL     0.409367\n",
      "TSLA     0.310150\n",
      "META     0.277408\n",
      "GOOGL    0.193126\n",
      "SPY     -6.642887\n",
      "dtype: float64\n",
      "\n",
      "Do the regression and tangency weights match?\n",
      "True\n"
     ]
    }
   ],
   "source": [
    "ret_df = pd.read_excel(\"spx_returns_weekly.xlsx\", sheet_name=\"s&p500 rets\")\n",
    "ret_df = ret_df[[\"AAPL\", \"NVDA\", \"MSFT\", \"GOOGL\", \"AMZN\", \"META\", \"TSLA\", \"AVGO\", \"BRK/B\", \"LLY\"]]\n",
    "df2 = pd.read_excel(\"spx_returns_weekly.xlsx\", sheet_name=\"benchmark rets\")[[\"SPY\"]]\n",
    "ret_df = ret_df.join(df2)\n",
    "\n",
    "R = ret_df.values\n",
    "y = np.ones(R.shape[0])\n",
    "\n",
    "beta = np.linalg.inv((R.T) @ R) @ (R.T @ y)\n",
    "\n",
    "w_reg = beta / beta.sum()\n",
    "\n",
    "wt_reg = pd.Series(w_reg, index=ret_df.columns)\n",
    "print(\"Tangency Portfolio Weights (via regression trick):\")\n",
    "print(wt_reg.sort_values(ascending=False))\n",
    "\n",
    "# annualize mean/covariance\n",
    "mu = ret_df.mean() * 52           \n",
    "Sigma = ret_df.cov() * 52\n",
    "\n",
    "# \n",
    "w_mv = np.linalg.inv(Sigma.values) @ mu.values\n",
    "w_mv = w_mv / w_mv.sum()\n",
    "ucmean = mu @ w_mv\n",
    "ucvol = ret_df.std() @ w_mv\n",
    "ucsharpe = ucmean / ucvol\n",
    "\n",
    "mu = mu * w_mv\n",
    "Sigma = Sigma * w_mv\n",
    "print(\"\\nDo the regression and tangency weights match?\")\n",
    "print(np.allclose(wt_reg.values, w_mv, rtol=1e-5))"
   ]
  },
  {
   "cell_type": "code",
   "execution_count": 97,
   "id": "96461fc8",
   "metadata": {},
   "outputs": [
    {
     "data": {
      "text/html": [
       "<div>\n",
       "<style scoped>\n",
       "    .dataframe tbody tr th:only-of-type {\n",
       "        vertical-align: middle;\n",
       "    }\n",
       "\n",
       "    .dataframe tbody tr th {\n",
       "        vertical-align: top;\n",
       "    }\n",
       "\n",
       "    .dataframe thead th {\n",
       "        text-align: right;\n",
       "    }\n",
       "</style>\n",
       "<table border=\"1\" class=\"dataframe\">\n",
       "  <thead>\n",
       "    <tr style=\"text-align: right;\">\n",
       "      <th></th>\n",
       "      <th>bounded</th>\n",
       "      <th>equal</th>\n",
       "      <th>unbounded</th>\n",
       "    </tr>\n",
       "  </thead>\n",
       "  <tbody>\n",
       "    <tr>\n",
       "      <th>AAPL</th>\n",
       "      <td>2.9677</td>\n",
       "      <td>9.0909</td>\n",
       "      <td>40.936744</td>\n",
       "    </tr>\n",
       "    <tr>\n",
       "      <th>NVDA</th>\n",
       "      <td>-1.3464</td>\n",
       "      <td>9.0909</td>\n",
       "      <td>88.289577</td>\n",
       "    </tr>\n",
       "    <tr>\n",
       "      <th>MSFT</th>\n",
       "      <td>14.4107</td>\n",
       "      <td>9.0909</td>\n",
       "      <td>84.858406</td>\n",
       "    </tr>\n",
       "    <tr>\n",
       "      <th>GOOGL</th>\n",
       "      <td>0.9599</td>\n",
       "      <td>9.0909</td>\n",
       "      <td>19.312564</td>\n",
       "    </tr>\n",
       "    <tr>\n",
       "      <th>AMZN</th>\n",
       "      <td>9.3823</td>\n",
       "      <td>9.0909</td>\n",
       "      <td>42.635592</td>\n",
       "    </tr>\n",
       "    <tr>\n",
       "      <th>META</th>\n",
       "      <td>0.2706</td>\n",
       "      <td>9.0909</td>\n",
       "      <td>27.740754</td>\n",
       "    </tr>\n",
       "    <tr>\n",
       "      <th>TSLA</th>\n",
       "      <td>-1.6565</td>\n",
       "      <td>9.0909</td>\n",
       "      <td>31.014977</td>\n",
       "    </tr>\n",
       "    <tr>\n",
       "      <th>AVGO</th>\n",
       "      <td>3.6437</td>\n",
       "      <td>9.0909</td>\n",
       "      <td>60.189647</td>\n",
       "    </tr>\n",
       "    <tr>\n",
       "      <th>BRK/B</th>\n",
       "      <td>35.0000</td>\n",
       "      <td>9.0909</td>\n",
       "      <td>258.047389</td>\n",
       "    </tr>\n",
       "    <tr>\n",
       "      <th>LLY</th>\n",
       "      <td>21.3026</td>\n",
       "      <td>9.0909</td>\n",
       "      <td>111.263002</td>\n",
       "    </tr>\n",
       "    <tr>\n",
       "      <th>SPY</th>\n",
       "      <td>15.0653</td>\n",
       "      <td>9.0909</td>\n",
       "      <td>-664.288653</td>\n",
       "    </tr>\n",
       "  </tbody>\n",
       "</table>\n",
       "</div>"
      ],
      "text/plain": [
       "       bounded   equal   unbounded\n",
       "AAPL    2.9677  9.0909   40.936744\n",
       "NVDA   -1.3464  9.0909   88.289577\n",
       "MSFT   14.4107  9.0909   84.858406\n",
       "GOOGL   0.9599  9.0909   19.312564\n",
       "AMZN    9.3823  9.0909   42.635592\n",
       "META    0.2706  9.0909   27.740754\n",
       "TSLA   -1.6565  9.0909   31.014977\n",
       "AVGO    3.6437  9.0909   60.189647\n",
       "BRK/B  35.0000  9.0909  258.047389\n",
       "LLY    21.3026  9.0909  111.263002\n",
       "SPY    15.0653  9.0909 -664.288653"
      ]
     },
     "execution_count": 97,
     "metadata": {},
     "output_type": "execute_result"
    }
   ],
   "source": [
    "# 1.3\n",
    "wdf[\"unbounded\"] = w_mv * 100\n",
    "wdf"
   ]
  },
  {
   "cell_type": "code",
   "execution_count": 98,
   "id": "016ec8f9",
   "metadata": {},
   "outputs": [
    {
     "name": "stdout",
     "output_type": "stream",
     "text": [
      "constrained mean: 0.20000000000040394\n",
      "constrained vol: 0.16488834266557528\n",
      "constrained sharpe: 1.212942023476103\n",
      "unconstrained mean: 1.302227634973375\n",
      "unconstrained vol: 0.15077836298490663\n",
      "unconstrained sharpe: 8.636700977472026\n"
     ]
    }
   ],
   "source": [
    "print(f\"constrained mean: {cmean}\")\n",
    "print(f\"constrained vol: {cvol}\")\n",
    "print(f\"constrained sharpe: {csharpe}\")\n",
    "print(f\"unconstrained mean: {ucmean}\")\n",
    "print(f\"unconstrained vol: {ucvol}\")\n",
    "print(f\"unconstrained sharpe: {ucsharpe}\")"
   ]
  },
  {
   "cell_type": "markdown",
   "id": "a448a695",
   "metadata": {},
   "source": [
    "No, the most extreme positions (BRK/B, LLY, and SPY) do have some of the largest means (Amazon, not included, does have a large mean)"
   ]
  },
  {
   "cell_type": "markdown",
   "id": "34c560b7",
   "metadata": {},
   "source": [
    "# Unbounded Portfolio Weights"
   ]
  }
 ],
 "metadata": {
  "kernelspec": {
   "display_name": ".venv",
   "language": "python",
   "name": "python3"
  },
  "language_info": {
   "codemirror_mode": {
    "name": "ipython",
    "version": 3
   },
   "file_extension": ".py",
   "mimetype": "text/x-python",
   "name": "python",
   "nbconvert_exporter": "python",
   "pygments_lexer": "ipython3",
   "version": "3.12.7"
  }
 },
 "nbformat": 4,
 "nbformat_minor": 5
}
