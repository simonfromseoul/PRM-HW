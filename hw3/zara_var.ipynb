{
 "cells": [
  {
   "cell_type": "markdown",
   "id": "86c6773f",
   "metadata": {},
   "source": [
    "# HW3: VaR Exercise"
   ]
  },
  {
   "cell_type": "code",
   "execution_count": 1,
   "id": "928011ff",
   "metadata": {},
   "outputs": [],
   "source": [
    "import pandas as pd\n",
    "import numpy as np"
   ]
  },
  {
   "cell_type": "code",
   "execution_count": 2,
   "id": "6c1cc3cd",
   "metadata": {},
   "outputs": [
    {
     "data": {
      "text/html": [
       "<div>\n",
       "<style scoped>\n",
       "    .dataframe tbody tr th:only-of-type {\n",
       "        vertical-align: middle;\n",
       "    }\n",
       "\n",
       "    .dataframe tbody tr th {\n",
       "        vertical-align: top;\n",
       "    }\n",
       "\n",
       "    .dataframe thead th {\n",
       "        text-align: right;\n",
       "    }\n",
       "</style>\n",
       "<table border=\"1\" class=\"dataframe\">\n",
       "  <thead>\n",
       "    <tr style=\"text-align: right;\">\n",
       "      <th></th>\n",
       "      <th>AAPL</th>\n",
       "      <th>MSFT</th>\n",
       "      <th>NVDA</th>\n",
       "      <th>TSLA</th>\n",
       "    </tr>\n",
       "    <tr>\n",
       "      <th>date</th>\n",
       "      <th></th>\n",
       "      <th></th>\n",
       "      <th></th>\n",
       "      <th></th>\n",
       "    </tr>\n",
       "  </thead>\n",
       "  <tbody>\n",
       "    <tr>\n",
       "      <th>2015-01-09</th>\n",
       "      <td>0.024514</td>\n",
       "      <td>0.009195</td>\n",
       "      <td>-0.009315</td>\n",
       "      <td>-0.057685</td>\n",
       "    </tr>\n",
       "    <tr>\n",
       "      <th>2015-01-16</th>\n",
       "      <td>-0.053745</td>\n",
       "      <td>-0.020131</td>\n",
       "      <td>0.000836</td>\n",
       "      <td>-0.065760</td>\n",
       "    </tr>\n",
       "    <tr>\n",
       "      <th>2015-01-23</th>\n",
       "      <td>0.065950</td>\n",
       "      <td>0.020329</td>\n",
       "      <td>0.037578</td>\n",
       "      <td>0.042575</td>\n",
       "    </tr>\n",
       "    <tr>\n",
       "      <th>2015-01-30</th>\n",
       "      <td>0.036997</td>\n",
       "      <td>-0.143706</td>\n",
       "      <td>-0.072636</td>\n",
       "      <td>0.011476</td>\n",
       "    </tr>\n",
       "    <tr>\n",
       "      <th>2015-02-06</th>\n",
       "      <td>0.019114</td>\n",
       "      <td>0.049753</td>\n",
       "      <td>0.062269</td>\n",
       "      <td>0.067589</td>\n",
       "    </tr>\n",
       "  </tbody>\n",
       "</table>\n",
       "</div>"
      ],
      "text/plain": [
       "                AAPL      MSFT      NVDA      TSLA\n",
       "date                                              \n",
       "2015-01-09  0.024514  0.009195 -0.009315 -0.057685\n",
       "2015-01-16 -0.053745 -0.020131  0.000836 -0.065760\n",
       "2015-01-23  0.065950  0.020329  0.037578  0.042575\n",
       "2015-01-30  0.036997 -0.143706 -0.072636  0.011476\n",
       "2015-02-06  0.019114  0.049753  0.062269  0.067589"
      ]
     },
     "execution_count": 2,
     "metadata": {},
     "output_type": "execute_result"
    }
   ],
   "source": [
    "from pathlib import Path\n",
    "\n",
    "data_path = r\"C:\\Users\\Zara\\Documents\\GitHub\\PRM-HW2\\data\\spx_returns_weekly.xlsx\"\n",
    "raw_returns = pd.read_excel(data_path, sheet_name=\"s&p500 rets\")\n",
    "raw_returns[\"date\"] = pd.to_datetime(raw_returns[\"date\"])\n",
    "raw_returns = raw_returns.set_index(\"date\").sort_index()\n",
    "\n",
    "tickers = [\"AAPL\", \"MSFT\", \"NVDA\", \"TSLA\"]\n",
    "returns = raw_returns[tickers].dropna()\n",
    "weights = pd.Series(1 / len(tickers), index=tickers)\n",
    "\n",
    "returns.head()"
   ]
  },
  {
   "cell_type": "markdown",
   "id": "e9edabeb",
   "metadata": {},
   "source": [
    "### 1.1 Stand-alone risk\n",
    "\n",
    "Volatility, empirical VaR, and empirical CVaR are calculated directly from the weekly return distribution."
   ]
  },
  {
   "cell_type": "code",
   "execution_count": 3,
   "id": "33d92982",
   "metadata": {},
   "outputs": [
    {
     "data": {
      "text/html": [
       "<div>\n",
       "<style scoped>\n",
       "    .dataframe tbody tr th:only-of-type {\n",
       "        vertical-align: middle;\n",
       "    }\n",
       "\n",
       "    .dataframe tbody tr th {\n",
       "        vertical-align: top;\n",
       "    }\n",
       "\n",
       "    .dataframe thead th {\n",
       "        text-align: right;\n",
       "    }\n",
       "</style>\n",
       "<table border=\"1\" class=\"dataframe\">\n",
       "  <thead>\n",
       "    <tr style=\"text-align: right;\">\n",
       "      <th></th>\n",
       "      <th>volatility</th>\n",
       "      <th>VaR_0.05</th>\n",
       "      <th>CVaR_0.05</th>\n",
       "    </tr>\n",
       "  </thead>\n",
       "  <tbody>\n",
       "    <tr>\n",
       "      <th>AAPL</th>\n",
       "      <td>3.84</td>\n",
       "      <td>-5.64</td>\n",
       "      <td>-8.31</td>\n",
       "    </tr>\n",
       "    <tr>\n",
       "      <th>MSFT</th>\n",
       "      <td>3.33</td>\n",
       "      <td>-4.76</td>\n",
       "      <td>-6.86</td>\n",
       "    </tr>\n",
       "    <tr>\n",
       "      <th>NVDA</th>\n",
       "      <td>6.42</td>\n",
       "      <td>-8.69</td>\n",
       "      <td>-11.65</td>\n",
       "    </tr>\n",
       "    <tr>\n",
       "      <th>TSLA</th>\n",
       "      <td>8.13</td>\n",
       "      <td>-11.74</td>\n",
       "      <td>-14.78</td>\n",
       "    </tr>\n",
       "  </tbody>\n",
       "</table>\n",
       "</div>"
      ],
      "text/plain": [
       "      volatility  VaR_0.05  CVaR_0.05\n",
       "AAPL        3.84     -5.64      -8.31\n",
       "MSFT        3.33     -4.76      -6.86\n",
       "NVDA        6.42     -8.69     -11.65\n",
       "TSLA        8.13    -11.74     -14.78"
      ]
     },
     "execution_count": 3,
     "metadata": {},
     "output_type": "execute_result"
    }
   ],
   "source": [
    "quantile = 0.05\n",
    "\n",
    "def summarize_series(series):\n",
    "    var_level = series.quantile(quantile)\n",
    "    cvar_level = series[series <= var_level].mean()\n",
    "    return pd.Series(\n",
    "        {\n",
    "            \"volatility\": series.std(),\n",
    "            \"VaR_0.05\": var_level,\n",
    "            \"CVaR_0.05\": cvar_level,\n",
    "        }\n",
    "    )\n",
    "\n",
    "individual_stats = returns.apply(summarize_series).T\n",
    "individual_stats_pct = individual_stats * 100\n",
    "individual_stats_pct.round(2)"
   ]
  },
  {
   "cell_type": "markdown",
   "id": "3fc84c03",
   "metadata": {},
   "source": [
    "TSLA posts the highest stand-alone volatility and deepest tail losses, while AAPL and MSFT cluster around the mid 3 percent range. NVDA sits between the mega-cap tech names and TSLA, matching intuitive expectations about each stock's risk profile."
   ]
  },
  {
   "cell_type": "markdown",
   "id": "423c1f9e",
   "metadata": {},
   "source": [
    "### 1.2 Equally weighted portfolio\n",
    "\n",
    "The equally weighted blend uses one quarter in each stock, illustrating the diversification benefit relative to the riskiest constituents."
   ]
  },
  {
   "cell_type": "code",
   "execution_count": 4,
   "id": "3d399b39",
   "metadata": {},
   "outputs": [
    {
     "data": {
      "text/html": [
       "<div>\n",
       "<style scoped>\n",
       "    .dataframe tbody tr th:only-of-type {\n",
       "        vertical-align: middle;\n",
       "    }\n",
       "\n",
       "    .dataframe tbody tr th {\n",
       "        vertical-align: top;\n",
       "    }\n",
       "\n",
       "    .dataframe thead th {\n",
       "        text-align: right;\n",
       "    }\n",
       "</style>\n",
       "<table border=\"1\" class=\"dataframe\">\n",
       "  <thead>\n",
       "    <tr style=\"text-align: right;\">\n",
       "      <th></th>\n",
       "      <th>volatility</th>\n",
       "      <th>VaR_0.05</th>\n",
       "      <th>CVaR_0.05</th>\n",
       "    </tr>\n",
       "  </thead>\n",
       "  <tbody>\n",
       "    <tr>\n",
       "      <th>AAPL</th>\n",
       "      <td>3.84</td>\n",
       "      <td>-5.64</td>\n",
       "      <td>-8.31</td>\n",
       "    </tr>\n",
       "    <tr>\n",
       "      <th>MSFT</th>\n",
       "      <td>3.33</td>\n",
       "      <td>-4.76</td>\n",
       "      <td>-6.86</td>\n",
       "    </tr>\n",
       "    <tr>\n",
       "      <th>NVDA</th>\n",
       "      <td>6.42</td>\n",
       "      <td>-8.69</td>\n",
       "      <td>-11.65</td>\n",
       "    </tr>\n",
       "    <tr>\n",
       "      <th>TSLA</th>\n",
       "      <td>8.13</td>\n",
       "      <td>-11.74</td>\n",
       "      <td>-14.78</td>\n",
       "    </tr>\n",
       "    <tr>\n",
       "      <th>Equal-Weighted</th>\n",
       "      <td>4.27</td>\n",
       "      <td>-6.00</td>\n",
       "      <td>-8.22</td>\n",
       "    </tr>\n",
       "  </tbody>\n",
       "</table>\n",
       "</div>"
      ],
      "text/plain": [
       "                volatility  VaR_0.05  CVaR_0.05\n",
       "AAPL                  3.84     -5.64      -8.31\n",
       "MSFT                  3.33     -4.76      -6.86\n",
       "NVDA                  6.42     -8.69     -11.65\n",
       "TSLA                  8.13    -11.74     -14.78\n",
       "Equal-Weighted        4.27     -6.00      -8.22"
      ]
     },
     "execution_count": 4,
     "metadata": {},
     "output_type": "execute_result"
    }
   ],
   "source": [
    "portfolio_returns = returns.dot(weights)\n",
    "equal_weight_stats = summarize_series(portfolio_returns)\n",
    "all_stats = individual_stats.copy()\n",
    "all_stats.loc[\"Equal-Weighted\"] = equal_weight_stats\n",
    "all_stats_pct = all_stats * 100\n",
    "all_stats_pct.round(2)"
   ]
  },
  {
   "cell_type": "markdown",
   "id": "b75c6446",
   "metadata": {},
   "source": [
    "The equal-weight basket produces about 4.3 percent weekly volatility and a 5 percent VaR near -6 percent, sitting well below the TSLA stand-alone risk. The reduction comes from less-than-perfect correlation across the four names, so the portfolio keeps much of the upside while trimming the extreme downside."
   ]
  },
  {
   "cell_type": "markdown",
   "id": "b1eb022e",
   "metadata": {},
   "source": [
    "### 1.3 Dropping the most volatile asset\n",
    "\n",
    "I replace the most volatile name's weight with a zero-return placeholder to see how much incremental risk it contributes."
   ]
  },
  {
   "cell_type": "code",
   "execution_count": 5,
   "id": "a009265f",
   "metadata": {},
   "outputs": [
    {
     "data": {
      "text/html": [
       "<div>\n",
       "<style scoped>\n",
       "    .dataframe tbody tr th:only-of-type {\n",
       "        vertical-align: middle;\n",
       "    }\n",
       "\n",
       "    .dataframe tbody tr th {\n",
       "        vertical-align: top;\n",
       "    }\n",
       "\n",
       "    .dataframe thead th {\n",
       "        text-align: right;\n",
       "    }\n",
       "</style>\n",
       "<table border=\"1\" class=\"dataframe\">\n",
       "  <thead>\n",
       "    <tr style=\"text-align: right;\">\n",
       "      <th></th>\n",
       "      <th>volatility</th>\n",
       "      <th>VaR_0.05</th>\n",
       "      <th>CVaR_0.05</th>\n",
       "    </tr>\n",
       "  </thead>\n",
       "  <tbody>\n",
       "    <tr>\n",
       "      <th>Equal-Weighted</th>\n",
       "      <td>4.27</td>\n",
       "      <td>-6.00</td>\n",
       "      <td>-8.22</td>\n",
       "    </tr>\n",
       "    <tr>\n",
       "      <th>Zero weight on TSLA</th>\n",
       "      <td>2.87</td>\n",
       "      <td>-4.15</td>\n",
       "      <td>-5.73</td>\n",
       "    </tr>\n",
       "  </tbody>\n",
       "</table>\n",
       "</div>"
      ],
      "text/plain": [
       "                     volatility  VaR_0.05  CVaR_0.05\n",
       "Equal-Weighted             4.27     -6.00      -8.22\n",
       "Zero weight on TSLA        2.87     -4.15      -5.73"
      ]
     },
     "execution_count": 5,
     "metadata": {},
     "output_type": "execute_result"
    }
   ],
   "source": [
    "most_volatile = individual_stats[\"volatility\"].idxmax()\n",
    "reduced_weights = weights.copy()\n",
    "reduced_weights[most_volatile] = 0\n",
    "reduced_portfolio_returns = returns.dot(reduced_weights)\n",
    "reduced_portfolio_stats = summarize_series(reduced_portfolio_returns)\n",
    "comparison = pd.DataFrame(\n",
    "    {\n",
    "        \"volatility\": [equal_weight_stats[\"volatility\"], reduced_portfolio_stats[\"volatility\"]],\n",
    "        \"VaR_0.05\": [equal_weight_stats[\"VaR_0.05\"], reduced_portfolio_stats[\"VaR_0.05\"]],\n",
    "        \"CVaR_0.05\": [equal_weight_stats[\"CVaR_0.05\"], reduced_portfolio_stats[\"CVaR_0.05\"]],\n",
    "    },\n",
    "    index=[\"Equal-Weighted\", f\"Zero weight on {most_volatile}\"],\n",
    ")\n",
    "(comparison * 100).round(2)"
   ]
  },
  {
   "cell_type": "markdown",
   "id": "ae30b561",
   "metadata": {},
   "source": [
    "Zeroing out TSLA drops weekly volatility by roughly 1.4 percentage points and improves the 5 percent CVaR by about 2.5 percentage points. That swing lines up with TSLA's large stand-alone volatility from 1.1, confirming that the name is the dominant driver of the portfolio's tail risk."
   ]
  },
  {
   "cell_type": "markdown",
   "id": "3a35e81f",
   "metadata": {},
   "source": [
    "### 2.1 Conditional diagnostics\n",
    "\n",
    "Rolling 26-week volatilities provide the sigma_t inputs for the normal VaR and CVaR forecast at the end of the sample."
   ]
  },
  {
   "cell_type": "code",
   "execution_count": 6,
   "id": "82f1d2e3",
   "metadata": {},
   "outputs": [
    {
     "data": {
      "text/html": [
       "<div>\n",
       "<style scoped>\n",
       "    .dataframe tbody tr th:only-of-type {\n",
       "        vertical-align: middle;\n",
       "    }\n",
       "\n",
       "    .dataframe tbody tr th {\n",
       "        vertical-align: top;\n",
       "    }\n",
       "\n",
       "    .dataframe thead th {\n",
       "        text-align: right;\n",
       "    }\n",
       "</style>\n",
       "<table border=\"1\" class=\"dataframe\">\n",
       "  <thead>\n",
       "    <tr style=\"text-align: right;\">\n",
       "      <th></th>\n",
       "      <th>Weekly sigma (%)</th>\n",
       "    </tr>\n",
       "  </thead>\n",
       "  <tbody>\n",
       "    <tr>\n",
       "      <th>AAPL</th>\n",
       "      <td>4.96</td>\n",
       "    </tr>\n",
       "    <tr>\n",
       "      <th>MSFT</th>\n",
       "      <td>4.06</td>\n",
       "    </tr>\n",
       "    <tr>\n",
       "      <th>NVDA</th>\n",
       "      <td>8.27</td>\n",
       "    </tr>\n",
       "    <tr>\n",
       "      <th>TSLA</th>\n",
       "      <td>8.49</td>\n",
       "    </tr>\n",
       "  </tbody>\n",
       "</table>\n",
       "</div>"
      ],
      "text/plain": [
       "      Weekly sigma (%)\n",
       "AAPL              4.96\n",
       "MSFT              4.06\n",
       "NVDA              8.27\n",
       "TSLA              8.49"
      ]
     },
     "metadata": {},
     "output_type": "display_data"
    },
    {
     "data": {
      "text/html": [
       "<div>\n",
       "<style scoped>\n",
       "    .dataframe tbody tr th:only-of-type {\n",
       "        vertical-align: middle;\n",
       "    }\n",
       "\n",
       "    .dataframe tbody tr th {\n",
       "        vertical-align: top;\n",
       "    }\n",
       "\n",
       "    .dataframe thead th {\n",
       "        text-align: right;\n",
       "    }\n",
       "</style>\n",
       "<table border=\"1\" class=\"dataframe\">\n",
       "  <thead>\n",
       "    <tr style=\"text-align: right;\">\n",
       "      <th></th>\n",
       "      <th>Value (%)</th>\n",
       "    </tr>\n",
       "  </thead>\n",
       "  <tbody>\n",
       "    <tr>\n",
       "      <th>Weekly volatility</th>\n",
       "      <td>4.98</td>\n",
       "    </tr>\n",
       "    <tr>\n",
       "      <th>Annualized volatility</th>\n",
       "      <td>35.90</td>\n",
       "    </tr>\n",
       "    <tr>\n",
       "      <th>Normal VaR (5%)</th>\n",
       "      <td>-8.21</td>\n",
       "    </tr>\n",
       "    <tr>\n",
       "      <th>Normal CVaR (5%)</th>\n",
       "      <td>-10.18</td>\n",
       "    </tr>\n",
       "  </tbody>\n",
       "</table>\n",
       "</div>"
      ],
      "text/plain": [
       "                       Value (%)\n",
       "Weekly volatility           4.98\n",
       "Annualized volatility      35.90\n",
       "Normal VaR (5%)            -8.21\n",
       "Normal CVaR (5%)          -10.18"
      ]
     },
     "metadata": {},
     "output_type": "display_data"
    }
   ],
   "source": [
    "window = 26\n",
    "weeks_per_year = 52\n",
    "\n",
    "rolling_asset_sigma = returns.rolling(window=window).std().shift(1)\n",
    "latest_asset_sigma = (rolling_asset_sigma.iloc[-1] * 100).to_frame(name=\"Weekly sigma (%)\").round(2)\n",
    "\n",
    "portfolio_rolling_sigma = portfolio_returns.rolling(window=window).std().shift(1)\n",
    "latest_sigma = portfolio_rolling_sigma.dropna().iloc[-1]\n",
    "annualized_vol = latest_sigma * np.sqrt(weeks_per_year)\n",
    "\n",
    "z_score = -1.65\n",
    "phi = np.exp(-0.5 * z_score ** 2) / np.sqrt(2 * np.pi)\n",
    "latest_var = z_score * latest_sigma\n",
    "latest_cvar = -phi / quantile * latest_sigma\n",
    "\n",
    "dynamic_summary = pd.DataFrame(\n",
    "    {\n",
    "        \"Value (%)\": [\n",
    "            latest_sigma * 100,\n",
    "            annualized_vol * 100,\n",
    "            latest_var * 100,\n",
    "            latest_cvar * 100,\n",
    "        ]\n",
    "    },\n",
    "    index=[\n",
    "        \"Weekly volatility\",\n",
    "        \"Annualized volatility\",\n",
    "        \"Normal VaR (5%)\",\n",
    "        \"Normal CVaR (5%)\",\n",
    "    ],\n",
    ").round(2)\n",
    "\n",
    "display(latest_asset_sigma)\n",
    "display(dynamic_summary)"
   ]
  },
  {
   "cell_type": "markdown",
   "id": "45b7e963",
   "metadata": {},
   "source": [
    "The forecasted weekly volatility for the basket is just under 5 percent, which annualizes to roughly 36 percent. That is firmer than the unconditional 4.3 percent from 1.2, so the normal VaR and CVaR (about -8 percent and -10 percent) paint a more conservative view of short-term downside risk."
   ]
  },
  {
   "cell_type": "markdown",
   "id": "cdfdee03",
   "metadata": {},
   "source": [
    "### 2.2 VaR hit test\n",
    "\n",
    "I test how often realized returns breached the model-implied VaR using both the expanding and rolling volatility estimators."
   ]
  },
  {
   "cell_type": "code",
   "execution_count": 7,
   "id": "274d5b1f",
   "metadata": {},
   "outputs": [
    {
     "data": {
      "text/html": [
       "<div>\n",
       "<style scoped>\n",
       "    .dataframe tbody tr th:only-of-type {\n",
       "        vertical-align: middle;\n",
       "    }\n",
       "\n",
       "    .dataframe tbody tr th {\n",
       "        vertical-align: top;\n",
       "    }\n",
       "\n",
       "    .dataframe thead th {\n",
       "        text-align: right;\n",
       "    }\n",
       "</style>\n",
       "<table border=\"1\" class=\"dataframe\">\n",
       "  <thead>\n",
       "    <tr style=\"text-align: right;\">\n",
       "      <th></th>\n",
       "      <th>hit_rate (%)</th>\n",
       "      <th>expected_rate (%)</th>\n",
       "      <th>violations</th>\n",
       "      <th>observations</th>\n",
       "    </tr>\n",
       "  </thead>\n",
       "  <tbody>\n",
       "    <tr>\n",
       "      <th>Expanding volatility</th>\n",
       "      <td>4.80</td>\n",
       "      <td>5.0</td>\n",
       "      <td>26</td>\n",
       "      <td>542</td>\n",
       "    </tr>\n",
       "    <tr>\n",
       "      <th>Rolling 26-week volatility</th>\n",
       "      <td>3.69</td>\n",
       "      <td>5.0</td>\n",
       "      <td>20</td>\n",
       "      <td>542</td>\n",
       "    </tr>\n",
       "  </tbody>\n",
       "</table>\n",
       "</div>"
      ],
      "text/plain": [
       "                            hit_rate (%)  expected_rate (%)  violations  \\\n",
       "Expanding volatility                4.80                5.0          26   \n",
       "Rolling 26-week volatility          3.69                5.0          20   \n",
       "\n",
       "                            observations  \n",
       "Expanding volatility                 542  \n",
       "Rolling 26-week volatility           542  "
      ]
     },
     "metadata": {},
     "output_type": "display_data"
    }
   ],
   "source": [
    "window = 26\n",
    "quantile = 0.05\n",
    "z_score = -1.65\n",
    "\n",
    "portfolio_rolling_sigma = portfolio_returns.rolling(window=window).std().shift(1)\n",
    "expanding_sigma = portfolio_returns.expanding(min_periods=window).std().shift(1)\n",
    "\n",
    "var_rolling = z_score * portfolio_rolling_sigma\n",
    "var_expanding = z_score * expanding_sigma\n",
    "\n",
    "hits_rolling = (portfolio_returns < var_rolling).dropna()\n",
    "hits_expanding = (portfolio_returns < var_expanding).dropna()\n",
    "\n",
    "hit_summary = pd.DataFrame(\n",
    "    {\n",
    "        \"hit_rate (%)\": [hits_expanding.mean() * 100, hits_rolling.mean() * 100],\n",
    "        \"expected_rate (%)\": [quantile * 100, quantile * 100],\n",
    "        \"violations\": [hits_expanding.sum(), hits_rolling.sum()],\n",
    "        \"observations\": [len(hits_expanding), len(hits_rolling)],\n",
    "    },\n",
    "    index=[\n",
    "        \"Expanding volatility\",\n",
    "        \"Rolling 26-week volatility\",\n",
    "    ],\n",
    ").round(2)\n",
    "\n",
    "display(hit_summary)"
   ]
  },
  {
   "cell_type": "markdown",
   "id": "320c5761",
   "metadata": {},
   "source": [
    "The expanding-volatility VaR registers hits roughly 4.8 percent of the time, very close to the nominal 5 percent level. The rolling estimator undershoots at about 3.7 percent, implying that it was too slow to adapt when volatility moved higher."
   ]
  }
 ],
 "metadata": {
  "kernelspec": {
   "display_name": "testing",
   "language": "python",
   "name": "python3"
  },
  "language_info": {
   "codemirror_mode": {
    "name": "ipython",
    "version": 3
   },
   "file_extension": ".py",
   "mimetype": "text/x-python",
   "name": "python",
   "nbconvert_exporter": "python",
   "pygments_lexer": "ipython3",
   "version": "3.10.9"
  }
 },
 "nbformat": 4,
 "nbformat_minor": 5
}
